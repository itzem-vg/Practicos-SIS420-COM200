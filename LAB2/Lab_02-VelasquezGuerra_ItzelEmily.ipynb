{
  "nbformat": 4,
  "nbformat_minor": 0,
  "metadata": {
    "colab": {
      "provenance": [],
      "include_colab_link": true
    },
    "kernelspec": {
      "name": "python3",
      "display_name": "Python 3"
    },
    "language_info": {
      "name": "python"
    }
  },
  "cells": [
    {
      "cell_type": "markdown",
      "metadata": {
        "id": "view-in-github",
        "colab_type": "text"
      },
      "source": [
        "<a href=\"https://colab.research.google.com/github/itzem-vg/Practicos-SIS420-COM200/blob/main/LAB2/Lab_02-VelasquezGuerra_ItzelEmily.ipynb\" target=\"_parent\"><img src=\"https://colab.research.google.com/assets/colab-badge.svg\" alt=\"Open In Colab\"/></a>"
      ]
    },
    {
      "cell_type": "code",
      "execution_count": 251,
      "metadata": {
        "id": "yaaNkrqKaJzj"
      },
      "outputs": [],
      "source": [
        "# utilizado para manejos de directorios y rutas\n",
        "import os\n",
        "\n",
        "# Computacion vectorial y cientifica para python\n",
        "import numpy as np\n",
        "#importamos pandas para el manejo del dataset, y separarlos dentro de una matriz\n",
        "import pandas as pd\n",
        "\n",
        "# Librerias para graficación (trazado de gráficos)\n",
        "from matplotlib import pyplot\n",
        "from mpl_toolkits.mplot3d import Axes3D  # Necesario para graficar superficies 3D\n",
        "\n",
        "# llama a matplotlib a embeber graficas dentro de los cuadernillos\n",
        "%matplotlib inline"
      ]
    },
    {
      "cell_type": "code",
      "source": [
        "#esta tabulate nos sirve para hacer tablas\n",
        "from tabulate import tabulate\n",
        "\n",
        "#Para separa el 20% y 80%\n",
        "from sklearn.model_selection import train_test_split\n",
        "\n",
        "# llama a matplotlib a embeber graficas dentro de los cuadernillos\n",
        "%matplotlib inline"
      ],
      "metadata": {
        "id": "0BHILp7LYUCv"
      },
      "execution_count": 252,
      "outputs": []
    },
    {
      "cell_type": "code",
      "source": [
        "# Conectamos nuestro Drive al Colab\n",
        "from google.colab import drive\n",
        "drive.mount(\"/content/gdrive\")"
      ],
      "metadata": {
        "colab": {
          "base_uri": "https://localhost:8080/"
        },
        "id": "5yBslSf8cp4b",
        "outputId": "d06404d0-9cef-4011-eaa1-9b850b4f4d77"
      },
      "execution_count": 253,
      "outputs": [
        {
          "output_type": "stream",
          "name": "stdout",
          "text": [
            "Drive already mounted at /content/gdrive; to attempt to forcibly remount, call drive.mount(\"/content/gdrive\", force_remount=True).\n"
          ]
        }
      ]
    },
    {
      "cell_type": "markdown",
      "source": [
        "# ***1. MULTIVARIABLE***"
      ],
      "metadata": {
        "id": "fytBdh71qGz6"
      }
    },
    {
      "cell_type": "code",
      "source": [
        "# Cargar datos desde un archivo con el formato especificado\n",
        "data = pd.read_csv('/content/gdrive/MyDrive/Colab Notebooks/datasets/datasetLab2.1.csv', delimiter=\",\")\n",
        "print(data)\n",
        "\n",
        "print('-' * 100) #separaador\n",
        "# Mostrar la cantidad de filas en los datos\n",
        "print(\"Cantidad de filas:\", len(data))\n"
      ],
      "metadata": {
        "colab": {
          "base_uri": "https://localhost:8080/"
        },
        "id": "QUj2w9cEViTO",
        "outputId": "301c54d1-f647-47f4-ac0f-e238d532c23d"
      },
      "execution_count": 254,
      "outputs": [
        {
          "output_type": "stream",
          "name": "stdout",
          "text": [
            "        popularity  duration_ms  danceability  energy  key  loudness  \\\n",
            "0               73       230666         0.676  0.4610    1    -6.746   \n",
            "1               55       149610         0.420  0.1660    1   -17.235   \n",
            "2               57       210826         0.438  0.3590    0    -9.734   \n",
            "3               71       201933         0.266  0.0596    0   -18.515   \n",
            "4               82       198853         0.618  0.4430    2    -9.681   \n",
            "...            ...          ...           ...     ...  ...       ...   \n",
            "113995          21       384999         0.172  0.2350    5   -16.393   \n",
            "113996          22       385000         0.174  0.1170    0   -18.318   \n",
            "113997          22       271466         0.629  0.3290    0   -10.895   \n",
            "113998          41       283893         0.587  0.5060    7   -10.889   \n",
            "113999          22       241826         0.526  0.4870    1   -10.204   \n",
            "\n",
            "        speechiness  acousticness  liveness  valence    tempo  time_signature  \n",
            "0            0.1430        0.0322    0.3580   0.7150   87.917               4  \n",
            "1            0.0763        0.9240    0.1010   0.2670   77.489               4  \n",
            "2            0.0557        0.2100    0.1170   0.1200   76.332               4  \n",
            "3            0.0363        0.9050    0.1320   0.1430  181.740               3  \n",
            "4            0.0526        0.4690    0.0829   0.1670  119.949               4  \n",
            "...             ...           ...       ...      ...      ...             ...  \n",
            "113995       0.0422        0.6400    0.0863   0.0339  125.995               5  \n",
            "113996       0.0401        0.9940    0.1050   0.0350   85.239               4  \n",
            "113997       0.0420        0.8670    0.0839   0.7430  132.378               4  \n",
            "113998       0.0297        0.3810    0.2700   0.4130  135.960               4  \n",
            "113999       0.0725        0.6810    0.0893   0.7080   79.198               4  \n",
            "\n",
            "[114000 rows x 12 columns]\n",
            "----------------------------------------------------------------------------------------------------\n",
            "Cantidad de filas: 114000\n"
          ]
        }
      ]
    },
    {
      "cell_type": "code",
      "source": [
        "data.info()"
      ],
      "metadata": {
        "colab": {
          "base_uri": "https://localhost:8080/"
        },
        "id": "ETMzX4UrVlmd",
        "outputId": "3fcd0985-92c5-4a94-f32c-9d3c8c4ccfe5"
      },
      "execution_count": 255,
      "outputs": [
        {
          "output_type": "stream",
          "name": "stdout",
          "text": [
            "<class 'pandas.core.frame.DataFrame'>\n",
            "RangeIndex: 114000 entries, 0 to 113999\n",
            "Data columns (total 12 columns):\n",
            " #   Column          Non-Null Count   Dtype  \n",
            "---  ------          --------------   -----  \n",
            " 0   popularity      114000 non-null  int64  \n",
            " 1   duration_ms     114000 non-null  int64  \n",
            " 2   danceability    114000 non-null  float64\n",
            " 3   energy          114000 non-null  float64\n",
            " 4   key             114000 non-null  int64  \n",
            " 5   loudness        114000 non-null  float64\n",
            " 6   speechiness     114000 non-null  float64\n",
            " 7   acousticness    114000 non-null  float64\n",
            " 8   liveness        114000 non-null  float64\n",
            " 9   valence         114000 non-null  float64\n",
            " 10  tempo           114000 non-null  float64\n",
            " 11  time_signature  114000 non-null  int64  \n",
            "dtypes: float64(8), int64(4)\n",
            "memory usage: 10.4 MB\n"
          ]
        }
      ]
    },
    {
      "cell_type": "code",
      "source": [
        "train_dataset, test_dataset = train_test_split(data, test_size=0.2, random_state=42) #test_size=0.2 el 20% de los datos originales se asignarán al conjunto de prueba, dejando el 80% restante para el conjunto de entrenamiento.\n",
        "\n",
        "\n",
        "#prepara las variables independientes para que el modelo de regresión utilizando los datos de prueba.\n",
        "X_regre_test = test_dataset.drop(['danceability'], axis=1).values\n",
        "y_regre_test = test_dataset['danceability'].values"
      ],
      "metadata": {
        "id": "PHayQ5SLXrJL"
      },
      "execution_count": 267,
      "outputs": []
    },
    {
      "source": [
        "# Seleccionamos las columnas para X y la columna 'danceability' para y\n",
        "X_regre = train_dataset.drop(['danceability'], axis=1).values\n",
        "y_regre = train_dataset['danceability'].values\n",
        "m_regre = len(y_regre) # almacenará el número de ejemplos que se utilizarán para entrenar tu modelo de regresión.\n",
        "\n",
        "\n",
        "\n",
        "# Ahora, X y y deberían contener datos numéricos del 80% del dataset\n",
        "\n",
        "# imprimir todos las X de datos solo 10\n",
        "# Ajustamos la cadena de formato para que coincida con el número de columnas en X_regre\n",
        "print('{:>8s}{:>8s}{:>10s}{:>10s}{:>8s}{:>8s}{:>8s}{:>8s}{:>6s}{:>10s}{:>10s}{:>10s}'.format(\n",
        "    'X[:,0]', 'X[:, 1]', 'X[:, 2]', 'X[:, 3]', 'X[:, 4]', 'X[:, 5]', 'X[:, 6]', 'X[:, 7]', 'X[:, 8]', 'X[:, 9]', 'X[:, 10]', 'Y'\n",
        "))\n",
        "print('-' * 115)  # Separador\n",
        "\n",
        "for i in range(10):\n",
        "    # Ajustamos la cadena de formato y eliminamos el acceso a índices más allá del rango válido\n",
        "    print('{:8.0f}{:8.0f}{:10.0f}{:10.0f}{:8.0f}{:8.0f}{:8.0f}{:8.0f}{:8.0f}{:10.0f}{:8.0f}{:10.0f}'.format(\n",
        "        X_regre[i, 0], X_regre[i, 1], X_regre[i, 2], X_regre[i, 3], X_regre[i, 4], X_regre[i, 5],\n",
        "        X_regre[i, 6], X_regre[i, 7], X_regre[i, 8], X_regre[i, 9], X_regre[i, 10], y_regre[i]\n",
        "    ))"
      ],
      "cell_type": "code",
      "metadata": {
        "colab": {
          "base_uri": "https://localhost:8080/"
        },
        "id": "zTB74eQPY_Cc",
        "outputId": "5e550518-0952-40c5-98ae-1b67cedd43a6"
      },
      "execution_count": 257,
      "outputs": [
        {
          "output_type": "stream",
          "name": "stdout",
          "text": [
            "  X[:,0] X[:, 1]   X[:, 2]   X[:, 3] X[:, 4] X[:, 5] X[:, 6] X[:, 7]X[:, 8]   X[:, 9]  X[:, 10]         Y\n",
            "-------------------------------------------------------------------------------------------------------------------\n",
            "      28  293960         1         9     -11       0       0       0       1        97       4         1\n",
            "       1  147133         1         7      -6       0       0       0       0        92       4         1\n",
            "      11   98386         0         9     -17       1       1       0       1       110       4         1\n",
            "      61  232173         1         0      -6       0       0       1       1       138       4         1\n",
            "      37  360320         1         0      -7       0       1       0       1       104       4         1\n",
            "      26  213000         1         0      -7       0       0       0       1       150       4         1\n",
            "      23  149506         0        10     -14       0       1       0       0       110       3         0\n",
            "      55  155492         1         1      -5       0       0       0       1       142       4         1\n",
            "      42  193764         0         3     -10       0       1       0       0        85       4         1\n",
            "      26  224000         1         2      -2       0       0       0       0       150       4         1\n"
          ]
        }
      ]
    },
    {
      "source": [
        "# Mostrar primeros 20 datos\n",
        "print(\"Mostramos solo 20 datos\")\n",
        "print('{:>8s}{:>8s}{:>8s}{:>8s}{:>8s}{:>8s}{:>10s}{:>10s}{:>8s}{:>8s}{:>8s}{:>8s}'.format('X1', 'X2', 'X3', 'X4', 'X5', 'X6', 'X7', 'X8', 'X9', 'X10', 'X11', 'X12')) # Quitamos X13 e Y del encabezado\n",
        "print('-'*108) #  separador\n",
        "for i in range(20):  # Mostrar solo los primeros 20 datos\n",
        "    # Usamos .iloc para indexar el DataFrame de Pandas\n",
        "    print('{:8.1f}{:8.1f}{:8.1f}{:8.1f}{:8.1f}{:8.1f}{:10.1f}{:10.1f}{:8.1f}{:8.1f}{:8.1f}{:8.1f}'.format(*data.iloc[i,:12])) # Imprimimos solo las primeras 12 columnas"
      ],
      "cell_type": "code",
      "metadata": {
        "colab": {
          "base_uri": "https://localhost:8080/"
        },
        "id": "lEKOgtaxZT7r",
        "outputId": "66d230ba-ee7b-4a0f-9bbc-7dfd1471f501"
      },
      "execution_count": 258,
      "outputs": [
        {
          "output_type": "stream",
          "name": "stdout",
          "text": [
            "Mostramos solo 20 datos\n",
            "      X1      X2      X3      X4      X5      X6        X7        X8      X9     X10     X11     X12\n",
            "------------------------------------------------------------------------------------------------------------\n",
            "    73.0230666.0     0.7     0.5     1.0    -6.7       0.1       0.0     0.4     0.7    87.9     4.0\n",
            "    55.0149610.0     0.4     0.2     1.0   -17.2       0.1       0.9     0.1     0.3    77.5     4.0\n",
            "    57.0210826.0     0.4     0.4     0.0    -9.7       0.1       0.2     0.1     0.1    76.3     4.0\n",
            "    71.0201933.0     0.3     0.1     0.0   -18.5       0.0       0.9     0.1     0.1   181.7     3.0\n",
            "    82.0198853.0     0.6     0.4     2.0    -9.7       0.1       0.5     0.1     0.2   119.9     4.0\n",
            "    58.0214240.0     0.7     0.5     6.0    -8.8       0.1       0.3     0.2     0.7    98.0     4.0\n",
            "    74.0229400.0     0.4     0.1     2.0    -8.8       0.0       0.9     0.1     0.1   141.3     3.0\n",
            "    80.0242946.0     0.7     0.4    11.0    -9.3       0.0       0.6     0.1     0.7   151.0     4.0\n",
            "    74.0189613.0     0.6     0.4     0.0    -8.7       0.0       0.3     0.2     0.7   130.1     4.0\n",
            "    56.0205594.0     0.4     0.6     1.0    -6.8       0.0       0.4     0.1     0.2    78.9     4.0\n",
            "    74.0244800.0     0.6     0.4     8.0    -8.1       0.0       0.3     0.1     0.3    99.9     4.0\n",
            "    69.0240165.0     0.5     0.3     4.0   -10.1       0.0       0.7     0.1     0.1   133.4     3.0\n",
            "    52.0198712.0     0.5     0.3     7.0    -9.2       0.0       0.7     0.1     0.6   124.2     4.0\n",
            "    62.0248448.0     0.7     0.2     3.0    -6.4       0.0       0.8     0.1     0.2    87.1     4.0\n",
            "    56.0188133.0     0.8     0.8     2.0    -6.1       0.0       0.1     0.1     0.4   120.0     4.0\n",
            "    58.0244986.0     0.5     0.6     4.0    -7.9       0.0       0.2     0.2     0.2    83.5     3.0\n",
            "    56.0129750.0     0.7     0.1     2.0   -18.1       0.0       0.8     0.1     0.4   110.2     4.0\n",
            "    54.0169728.0     0.8     0.1    10.0   -18.1       0.0       0.7     0.1     0.6    91.8     4.0\n",
            "    68.0189613.0     0.6     0.4     0.0    -8.7       0.0       0.3     0.2     0.7   130.1     4.0\n",
            "    67.0260186.0     0.7     0.3     3.0    -8.4       0.0       0.8     0.1     0.3   107.9     4.0\n"
          ]
        }
      ]
    },
    {
      "cell_type": "code",
      "source": [
        "#data.info()"
      ],
      "metadata": {
        "id": "ZbOE0YAhZl2r"
      },
      "execution_count": 259,
      "outputs": []
    },
    {
      "cell_type": "markdown",
      "source": [
        "# ***1.1 Normalización de caracteristicas***\n",
        "Al visualizar los datos se puede observar que las caracteristicas tienen diferentes magnitudes, por lo cual se debe transformar cada valor en una escala de valores similares, esto con el fin de que el descenso por el gradiente pueda converger mas rapidamente."
      ],
      "metadata": {
        "id": "Em7SnRT1ydVI"
      }
    },
    {
      "cell_type": "code",
      "source": [
        "def  featureNormalize(X):\n",
        "    X_norm = X.copy()\n",
        "\n",
        "    #creamos un array de ceros con una longitud igual al número de columnas en el array X. La variable mu y sigma se inicializa como este array de ceros.\n",
        "    mu = np.zeros(X.shape[1])\n",
        "    sigma = np.zeros(X.shape[1])\n",
        "\n",
        "    #Creamos el promedio de cada columna de X\n",
        "    mu = np.mean(X, axis = 0)\n",
        "    sigma = np.std(X, axis = 0)\n",
        "\n",
        "    sigma[sigma == 0] = 1\n",
        "\n",
        "    #normalizamos los datos con la siguiente formula\n",
        "    X_norm = (X - mu) / sigma\n",
        "\n",
        "    return X_norm, mu, sigma\n"
      ],
      "metadata": {
        "id": "JGgQYE9neUl2"
      },
      "execution_count": 260,
      "outputs": []
    },
    {
      "cell_type": "code",
      "source": [
        "# Separar las características (X) de la variable objetivo (Y)\n",
        "X = data.iloc[:11000, 2:]\n",
        "y = data.iloc[:11000, 0]\n",
        "\n",
        "m = len(X)\n",
        "# Mostrar la cantidad de filas en los datos\n",
        "print(\"Cantidad de filas:\",m )"
      ],
      "metadata": {
        "colab": {
          "base_uri": "https://localhost:8080/"
        },
        "id": "Glsk29oZaNTI",
        "outputId": "a26e92aa-b28d-46bc-847f-71a90ebf83ab"
      },
      "execution_count": 261,
      "outputs": [
        {
          "output_type": "stream",
          "name": "stdout",
          "text": [
            "Cantidad de filas: 11000\n"
          ]
        }
      ]
    },
    {
      "source": [
        "# llama featureNormalize con los datos cargados\n",
        "X_norm, mu, sigma = featureNormalize(X)\n",
        "\n",
        "# Mostrar algunos puntos de datos normalizados\n",
        "print(\"Mostramos solo 10 datos normalizados\")\n",
        "print('{:>8s}{:>8s}{:>8s}{:>8s}{:>8s}{:>8s}{:>10s}{:>10s}{:>8s}{:>8s}{:>8s}'.format('X1', 'X2', 'X3', 'X4', 'X5', 'X6', 'X7', 'X8', 'X9', 'X10', 'X11', 'X12')) # Quitamos 'Y'\n",
        "print('-'*107) # Ajustamos la longitud de la línea\n",
        "for i in range(10):  # Mostrar solo los primeros 10 datos normalizados\n",
        "\n",
        "    print('{:8.4f}{:8.4f}{:8.4f}{:8.4f}{:8.4f}{:8.4f}{:10.4f}{:10.4f}{:8.4f}{:8.4f}'.format(\n",
        "\n",
        "        X_norm.iloc[i, 0], X_norm.iloc[i, 1], X_norm.iloc[i, 2], X_norm.iloc[i, 3],\n",
        "        X_norm.iloc[i, 4], X_norm.iloc[i, 5], X_norm.iloc[i, 6], X_norm.iloc[i, 7],\n",
        "        X_norm.iloc[i, 8], X_norm.iloc[i, 9]\n",
        "    )) # Usamos .iloc para indexación basada en etiquetas y quitamos la última columna\n",
        "print('Media calculada:', mu)\n",
        "print('Desviación estandar calculada:', sigma)"
      ],
      "cell_type": "code",
      "metadata": {
        "colab": {
          "base_uri": "https://localhost:8080/"
        },
        "id": "lpAMhXg6bEiW",
        "outputId": "45ef6cd9-7719-4fab-84cd-d3424513491f"
      },
      "execution_count": 262,
      "outputs": [
        {
          "output_type": "stream",
          "name": "stdout",
          "text": [
            "Mostramos solo 10 datos normalizados\n",
            "      X1      X2      X3      X4      X5      X6        X7        X8      X9     X10     X11\n",
            "-----------------------------------------------------------------------------------------------------------\n",
            "  0.8455 -0.6529 -1.2472  0.3515  1.0987 -0.8323    0.8499    0.9284 -1.1564  0.2473\n",
            " -0.6349 -1.7599 -1.2472 -1.6320  0.1128  1.7650   -0.5778   -0.7346 -1.5060  0.2473\n",
            " -0.5308 -1.0356 -1.5291 -0.2136 -0.1917 -0.3145   -0.4889   -1.2803 -1.5448  0.2473\n",
            " -1.5255 -2.1591 -1.5291 -1.8741 -0.4785  1.7096   -0.4056   -1.1949  1.9895 -2.1325\n",
            "  0.5101 -0.7204 -0.9653 -0.2035 -0.2375  0.4398   -0.6784   -1.1058 -0.0823  0.2473\n",
            "  0.9149 -0.5778  0.1623 -0.0383  0.5370 -0.0844   -0.0890    0.7465 -0.8177  0.2473\n",
            " -0.7101 -1.8312 -0.9653 -0.0411 -0.4903  1.5698   -0.6317   -1.4417  0.6330 -2.1325\n",
            "  1.0016 -0.7166  1.5717 -0.1374 -0.3986  0.7020   -0.5984    0.9173  0.9575  0.2473\n",
            "  0.5506 -0.8292 -1.5291 -0.0180 -0.4696 -0.0698   -0.3001    0.7577  0.2576  0.2473\n",
            " -0.5077 -0.0112 -1.2472  0.3469 -0.5790  0.3146   -0.7306   -0.9982 -1.4587  0.2473\n",
            "Media calculada: danceability        0.529793\n",
            "energy              0.634973\n",
            "key                 5.424364\n",
            "loudness           -8.604680\n",
            "speechiness         0.068669\n",
            "acousticness        0.317976\n",
            "liveness            0.205011\n",
            "valence             0.464894\n",
            "tempo             122.404367\n",
            "time_signature      3.896091\n",
            "dtype: float64\n",
            "Desviación estandar calculada: danceability       0.172927\n",
            "energy             0.266482\n",
            "key                3.547407\n",
            "loudness           5.288062\n",
            "speechiness        0.067652\n",
            "acousticness       0.343362\n",
            "liveness           0.180003\n",
            "valence            0.269392\n",
            "tempo             29.824299\n",
            "time_signature     0.420198\n",
            "dtype: float64\n"
          ]
        }
      ]
    },
    {
      "cell_type": "markdown",
      "source": [
        "Añadimos fila X0 de puros unos (1)"
      ],
      "metadata": {
        "id": "XNyrSn1C6T5a"
      }
    },
    {
      "source": [
        "# Añade el termino de interseccion a X\n",
        "# (Columna de unos para X0)\n",
        "# Asegúrate de que X_norm tenga las mismas filas que la columna de unos\n",
        "X_norm = X_norm.iloc[:m, :]\n",
        "X = np.concatenate([np.ones((m, 1)), X_norm], axis=1)\n",
        "print(X)"
      ],
      "cell_type": "code",
      "metadata": {
        "colab": {
          "base_uri": "https://localhost:8080/"
        },
        "id": "89LewmisnzX2",
        "outputId": "e9907239-ea6d-4526-d55f-404969e95bee"
      },
      "execution_count": 263,
      "outputs": [
        {
          "output_type": "stream",
          "name": "stdout",
          "text": [
            "[[ 1.          0.84548148 -0.65285138 ...  0.92841141 -1.15635129\n",
            "   0.2472859 ]\n",
            " [ 1.         -0.63490778 -1.75986854 ... -0.73459351 -1.50599907\n",
            "   0.2472859 ]\n",
            " [ 1.         -0.53081791 -1.03561663 ... -1.280267   -1.54479294\n",
            "   0.2472859 ]\n",
            " ...\n",
            " [ 1.          1.18088218  0.97952986 ... -0.21490448 -1.17026612\n",
            "   0.2472859 ]\n",
            " [ 1.          0.39442538  1.14464429 ...  0.03009178  1.76395205\n",
            "   0.2472859 ]\n",
            " [ 1.          0.68356391  0.39037158 ...  1.07318192  0.10560628\n",
            "   0.2472859 ]]\n"
          ]
        }
      ]
    },
    {
      "cell_type": "code",
      "source": [
        "print(X.shape)"
      ],
      "metadata": {
        "colab": {
          "base_uri": "https://localhost:8080/"
        },
        "id": "_1WGKHI9f2Lc",
        "outputId": "b1022202-3762-4ff6-b5ec-2d8699142c0e"
      },
      "execution_count": 264,
      "outputs": [
        {
          "output_type": "stream",
          "name": "stdout",
          "text": [
            "(11000, 11)\n"
          ]
        }
      ]
    },
    {
      "cell_type": "markdown",
      "source": [
        "# ***1.2 Descenso por el gradiente***\n",
        ""
      ],
      "metadata": {
        "id": "qmE7uXjs_8Ra"
      }
    },
    {
      "cell_type": "code",
      "source": [
        "def computeCostMulti(X, y, theta):\n",
        "    # Inicializa algunos valores utiles\n",
        "    m = y.shape[0] # numero de ejemplos de entrenamiento\n",
        "\n",
        "    J = 0\n",
        "\n",
        "    # hipotesis o y predicha\n",
        "    h = np.dot(X, theta)\n",
        "\n",
        "    J = (1/(2 * m)) * np.sum(np.square(np.dot(X, theta) - y))\n",
        "\n",
        "    return J"
      ],
      "metadata": {
        "id": "A6WE33yhAlWK"
      },
      "execution_count": 265,
      "outputs": []
    },
    {
      "cell_type": "code",
      "source": [
        "def gradientDescentMulti(X, y, theta, alpha, num_iters):\n",
        "    # alfa => coeficiente de aprendizaje\n",
        "\n",
        "    # Inicializa algunos valores\n",
        "    m = y.shape[0] # numero de ejemplos de entrenamiento\n",
        "\n",
        "    # realiza una copia de theta, el cual será acutalizada por el descenso por el gradiente\n",
        "    theta = theta.copy()\n",
        "\n",
        "    J_history = []\n",
        "\n",
        "    for i in range(num_iters):\n",
        "        theta = theta - (alpha / m) * np.dot(X.T, np.dot(X, theta) - y)\n",
        "        J_history.append(computeCostMulti(X, y, theta))\n",
        "\n",
        "    return theta, J_history"
      ],
      "metadata": {
        "id": "7Wm1OwAJAsus"
      },
      "execution_count": 266,
      "outputs": []
    },
    {
      "cell_type": "markdown",
      "source": [
        "# ***1.3 Seleccionando coheficientes de aprendizaje***\n"
      ],
      "metadata": {
        "id": "prqKIBfnBe-D"
      }
    },
    {
      "cell_type": "code",
      "source": [
        "# Elegir algun valor para alpha (probar varias alternativas)\n",
        "alpha = 0.002 # alpha = 0.003\n",
        "num_iters = 10000\n",
        "\n",
        "# inicializa theta y ejecuta el descenso por el gradiente\n",
        "theta = np.zeros(X.shape[1])\n",
        "theta, J_history = gradientDescentMulti(X, y, theta, alpha, num_iters)\n",
        "\n",
        "# Grafica la convergencia del costo\n",
        "pyplot.plot(np.arange(len(J_history)), J_history, lw=2)\n",
        "pyplot.xlabel('Numero de iteraciones')\n",
        "pyplot.ylabel('Costo J')\n",
        "\n",
        "# Muestra los resultados del descenso por el gradiente\n",
        "print('theta calculado por el descenso por el gradiente: {:s}'.format(str(theta)))"
      ],
      "metadata": {
        "colab": {
          "base_uri": "https://localhost:8080/",
          "height": 510
        },
        "id": "SUL1iKDrB5pa",
        "outputId": "d3575efe-23f7-4d4d-8457-b15c36ff9948"
      },
      "execution_count": 223,
      "outputs": [
        {
          "output_type": "stream",
          "name": "stdout",
          "text": [
            "theta calculado por el descenso por el gradiente: [32.93009084  0.33264583 -5.15387144 -0.42656694  1.85630151  0.10742305\n",
            " -0.4189311   0.27967743 -2.72741486 -0.07608133  0.5152187 ]\n"
          ]
        },
        {
          "output_type": "display_data",
          "data": {
            "text/plain": [
              "<Figure size 640x480 with 1 Axes>"
            ],
            "image/png": "[encoded data removed]"
          },
          "metadata": {}
        }
      ]
    },
    {
      "cell_type": "code",
      "source": [
        "# Datos para predecir (solo 11 columnas) AUMENTAR\n",
        "data_new = np.array([\n",
        "    [1, 0, 33, 20, 13, 46, 23, 1022.9, 1019.8, 0, 0],\n",
        "    [1, 0, 28, 13, 11, 38, 19, 1020.4, 1015.2, 0, 0],\n",
        "    [1, 0, 44, 9, 30, 47, 15, 1013.9, 1009.3, 0, 0],\n",
        "    [1, 0, 54, 9, 7, 62, 93, 1004, 1002.3, 1, 8],\n",
        "    [1, 29.4, 56, 20, 28, 90, 60, 1000.8, 1001.3, 8, 6]\n",
        "])\n",
        "\n",
        "print(\"Shape of theta:\", theta.shape)\n",
        "print(\"Shape of data_new:\", data_new.shape)"
      ],
      "metadata": {
        "colab": {
          "base_uri": "https://localhost:8080/"
        },
        "id": "2h9_ZHhakww5",
        "outputId": "cc570ed5-0c6c-4a6c-e9b9-cf5d55babef0"
      },
      "execution_count": 224,
      "outputs": [
        {
          "output_type": "stream",
          "name": "stdout",
          "text": [
            "Shape of theta: (11,)\n",
            "Shape of data_new: (5, 11)\n"
          ]
        }
      ]
    },
    {
      "cell_type": "code",
      "source": [
        "# Calcula el número de coeficientes faltantes\n",
        "num_missing_coeffs = data_new.shape[1] - theta.shape[0]\n",
        "\n",
        "# Agrega los coeficientes faltantes a theta\n",
        "theta = np.pad(theta, (0, num_missing_coeffs), 'constant')\n",
        "\n",
        "# Ahora realiza el producto punto\n",
        "y_pred = np.dot(data_new, theta)\n",
        "\n",
        "\n",
        "print(\"Shape of theta:\", theta.shape)\n",
        "print(\"Shape of data_new:\", data_new.shape)"
      ],
      "metadata": {
        "colab": {
          "base_uri": "https://localhost:8080/"
        },
        "id": "tKDa8-GwgYJJ",
        "outputId": "3d84c056-c705-4377-837e-422e01557bd4"
      },
      "execution_count": 225,
      "outputs": [
        {
          "output_type": "stream",
          "name": "stdout",
          "text": [
            "Shape of theta: (11,)\n",
            "Shape of data_new: (5, 11)\n"
          ]
        }
      ]
    },
    {
      "cell_type": "code",
      "source": [
        "# Visualizar las predicciones\n",
        "print('Predicciones de su bailabilidad máxima para las nuevas características:')\n",
        "for i, pred in enumerate(y_pred, start=1):\n",
        "    print(f'Predicción {i}: {pred.round(2)}')"
      ],
      "metadata": {
        "colab": {
          "base_uri": "https://localhost:8080/"
        },
        "id": "ctvQ7N0-g-uP",
        "outputId": "0cecc419-4d36-4a06-c3d3-4ff242d9cca0"
      },
      "execution_count": 226,
      "outputs": [
        {
          "output_type": "stream",
          "name": "stdout",
          "text": [
            "Predicciones de su bailabilidad máxima para las nuevas características:\n",
            "Predicción 1: -2621.58\n",
            "Predicción 2: -2583.87\n",
            "Predicción 3: -2612.44\n",
            "Predicción 4: -2717.37\n",
            "Predicción 5: -2666.51\n"
          ]
        }
      ]
    },
    {
      "cell_type": "code",
      "source": [
        "data_new = np.array([\n",
        "    [1, 0, 33, 20, 13, 46, 23, 1022.9, 1019.8, 0, 0],\n",
        "    [1, 0, 28, 13, 11, 38, 19, 1020.4, 1015.2, 0, 0],\n",
        "    [1, 0, 44, 9, 30, 47, 15, 1013.9, 1009.3, 0, 0],\n",
        "    [1, 0, 54, 9, 7, 62, 93, 1004, 1002.3, 1, 8],\n",
        "    [1, 29.4, 56, 20, 28, 90, 60, 1000.8, 1001.3, 8, 6]\n",
        "])\n",
        "\n",
        "# Calcular las predicciones\n",
        "y_pred = np.dot(data_new, theta)\n",
        "\n",
        "# Visualizar las predicciones\n",
        "print('Predicciones de bailabilidad máxima para las nuevas características:')\n",
        "for i, pred in enumerate(y_pred, start=1):\n",
        "    print(f'Predicción {i}: {pred.round(2)}')"
      ],
      "metadata": {
        "colab": {
          "base_uri": "https://localhost:8080/"
        },
        "id": "qp9xUL4cmGml",
        "outputId": "7717ec4a-7650-45d6-d364-3fea7db0ea45"
      },
      "execution_count": 227,
      "outputs": [
        {
          "output_type": "stream",
          "name": "stdout",
          "text": [
            "Predicciones de bailabilidad máxima para las nuevas características:\n",
            "Predicción 1: -2621.58\n",
            "Predicción 2: -2583.87\n",
            "Predicción 3: -2612.44\n",
            "Predicción 4: -2717.37\n",
            "Predicción 5: -2666.51\n"
          ]
        }
      ]
    },
    {
      "cell_type": "markdown",
      "source": [
        "# ***2. POLINOMIAL***"
      ],
      "metadata": {
        "id": "fUHu-FCwxyOq"
      }
    },
    {
      "cell_type": "code",
      "source": [
        "# Cargar datos desde un archivo con el formato especificado\n",
        "data = pd.read_csv('/content/gdrive/MyDrive/Colab Notebooks/datasets/datasetLab2.1.csv', delimiter=\",\")\n",
        "print(data)\n",
        "\n",
        "print('-' * 100) #separaador\n",
        "# Mostrar la cantidad de filas en los datos\n",
        "print(\"Cantidad de filas:\", len(data))"
      ],
      "metadata": {
        "colab": {
          "base_uri": "https://localhost:8080/"
        },
        "id": "c2Olk1hJmaSe",
        "outputId": "542c7e87-a86a-4685-de74-e98b0adeeda8"
      },
      "execution_count": 228,
      "outputs": [
        {
          "output_type": "stream",
          "name": "stdout",
          "text": [
            "        popularity  duration_ms  danceability  energy  key  loudness  \\\n",
            "0               73       230666         0.676  0.4610    1    -6.746   \n",
            "1               55       149610         0.420  0.1660    1   -17.235   \n",
            "2               57       210826         0.438  0.3590    0    -9.734   \n",
            "3               71       201933         0.266  0.0596    0   -18.515   \n",
            "4               82       198853         0.618  0.4430    2    -9.681   \n",
            "...            ...          ...           ...     ...  ...       ...   \n",
            "113995          21       384999         0.172  0.2350    5   -16.393   \n",
            "113996          22       385000         0.174  0.1170    0   -18.318   \n",
            "113997          22       271466         0.629  0.3290    0   -10.895   \n",
            "113998          41       283893         0.587  0.5060    7   -10.889   \n",
            "113999          22       241826         0.526  0.4870    1   -10.204   \n",
            "\n",
            "        speechiness  acousticness  liveness  valence    tempo  time_signature  \n",
            "0            0.1430        0.0322    0.3580   0.7150   87.917               4  \n",
            "1            0.0763        0.9240    0.1010   0.2670   77.489               4  \n",
            "2            0.0557        0.2100    0.1170   0.1200   76.332               4  \n",
            "3            0.0363        0.9050    0.1320   0.1430  181.740               3  \n",
            "4            0.0526        0.4690    0.0829   0.1670  119.949               4  \n",
            "...             ...           ...       ...      ...      ...             ...  \n",
            "113995       0.0422        0.6400    0.0863   0.0339  125.995               5  \n",
            "113996       0.0401        0.9940    0.1050   0.0350   85.239               4  \n",
            "113997       0.0420        0.8670    0.0839   0.7430  132.378               4  \n",
            "113998       0.0297        0.3810    0.2700   0.4130  135.960               4  \n",
            "113999       0.0725        0.6810    0.0893   0.7080   79.198               4  \n",
            "\n",
            "[114000 rows x 12 columns]\n",
            "----------------------------------------------------------------------------------------------------\n",
            "Cantidad de filas: 114000\n"
          ]
        }
      ]
    },
    {
      "cell_type": "code",
      "source": [
        "# Seleccionamos las columnas para X y la columna 'price' para y\n",
        "X_regre = train_dataset.drop(['danceability'], axis=1).values\n",
        "y_regre = train_dataset['danceability'].values\n",
        "m_regre = len(y_regre) # almacenará el número de ejemplos que se utilizarán para entrenar tu modelo de regresión.\n",
        "\n",
        "\n",
        "\n",
        "# Ahora, X y y deberían contener datos numéricos del 80% del dataset\n",
        "\n",
        "# imprimir todos las X de datos solo 10\n",
        "# Ajustamos la cadena de formato para que coincida con el número de columnas en X_regre\n",
        "print('{:>8s}{:>8s}{:>10s}{:>10s}{:>8s}{:>8s}{:>8s}{:>8s}{:>6s}{:>10s}{:>10s}{:>10s}'.format(\n",
        "    'X[:,0]', 'X[:, 1]', 'X[:, 2]', 'X[:, 3]', 'X[:, 4]', 'X[:, 5]', 'X[:, 6]', 'X[:, 7]', 'X[:, 8]', 'X[:, 9]', 'X[:, 10]', 'Y'\n",
        "))\n",
        "print('-' * 115)  # Ajustamos la longitud del separador\n",
        "\n",
        "for i in range(10):\n",
        "    # Ajustamos la cadena de formato y eliminamos el acceso a índices más allá del rango válido\n",
        "    print('{:8.0f}{:8.0f}{:10.0f}{:10.0f}{:8.0f}{:8.0f}{:8.0f}{:8.0f}{:8.0f}{:10.0f}{:8.0f}{:10.0f}'.format(\n",
        "        X_regre[i, 0], X_regre[i, 1], X_regre[i, 2], X_regre[i, 3], X_regre[i, 4], X_regre[i, 5],\n",
        "        X_regre[i, 6], X_regre[i, 7], X_regre[i, 8], X_regre[i, 9], X_regre[i, 10], y_regre[i]\n",
        "    ))"
      ],
      "metadata": {
        "colab": {
          "base_uri": "https://localhost:8080/"
        },
        "id": "KX4xgTFKmq1K",
        "outputId": "d053493c-0149-4494-f543-503adb00a93b"
      },
      "execution_count": 229,
      "outputs": [
        {
          "output_type": "stream",
          "name": "stdout",
          "text": [
            "  X[:,0] X[:, 1]   X[:, 2]   X[:, 3] X[:, 4] X[:, 5] X[:, 6] X[:, 7]X[:, 8]   X[:, 9]  X[:, 10]         Y\n",
            "-------------------------------------------------------------------------------------------------------------------\n",
            "      28  293960         1         9     -11       0       0       0       1        97       4         1\n",
            "       1  147133         1         7      -6       0       0       0       0        92       4         1\n",
            "      11   98386         0         9     -17       1       1       0       1       110       4         1\n",
            "      61  232173         1         0      -6       0       0       1       1       138       4         1\n",
            "      37  360320         1         0      -7       0       1       0       1       104       4         1\n",
            "      26  213000         1         0      -7       0       0       0       1       150       4         1\n",
            "      23  149506         0        10     -14       0       1       0       0       110       3         0\n",
            "      55  155492         1         1      -5       0       0       0       1       142       4         1\n",
            "      42  193764         0         3     -10       0       1       0       0        85       4         1\n",
            "      26  224000         1         2      -2       0       0       0       0       150       4         1\n"
          ]
        }
      ]
    },
    {
      "cell_type": "markdown",
      "source": [
        "--------------------------------------------------------------------------------"
      ],
      "metadata": {
        "id": "06N3AC8UM36A"
      }
    },
    {
      "cell_type": "code",
      "source": [
        "# Separar las características (X) de la variable objetivo (Y)\n",
        "X = data.iloc[:11000, 2:]\n",
        "y = data.iloc[:11000, 0]\n",
        "\n",
        "m = len(X)\n",
        "# Mostrar la cantidad de filas en los datos\n",
        "print(\"Cantidad de filas:\",m )"
      ],
      "metadata": {
        "colab": {
          "base_uri": "https://localhost:8080/"
        },
        "id": "b7sMQmwLnQEI",
        "outputId": "61ab879b-f137-427a-ce09-52c9e1c06c08"
      },
      "execution_count": 230,
      "outputs": [
        {
          "output_type": "stream",
          "name": "stdout",
          "text": [
            "Cantidad de filas: 11000\n"
          ]
        }
      ]
    },
    {
      "cell_type": "code",
      "source": [
        "print(X)"
      ],
      "metadata": {
        "colab": {
          "base_uri": "https://localhost:8080/"
        },
        "id": "aqin6sBfnVPH",
        "outputId": "a80cdf10-ede5-4457-8bb7-ec8492d64290"
      },
      "execution_count": 231,
      "outputs": [
        {
          "output_type": "stream",
          "name": "stdout",
          "text": [
            "       danceability  energy  key  loudness  speechiness  acousticness  \\\n",
            "0             0.676  0.4610    1    -6.746       0.1430      0.032200   \n",
            "1             0.420  0.1660    1   -17.235       0.0763      0.924000   \n",
            "2             0.438  0.3590    0    -9.734       0.0557      0.210000   \n",
            "3             0.266  0.0596    0   -18.515       0.0363      0.905000   \n",
            "4             0.618  0.4430    2    -9.681       0.0526      0.469000   \n",
            "...             ...     ...  ...       ...          ...           ...   \n",
            "10995         0.624  0.9720   11    -5.689       0.0677      0.007890   \n",
            "10996         0.718  0.9460    7    -4.516       0.0686      0.001950   \n",
            "10997         0.734  0.8960    2    -3.572       0.0412      0.004060   \n",
            "10998         0.598  0.9400   10    -2.479       0.0562      0.001100   \n",
            "10999         0.648  0.7390    8   -11.031       0.0292      0.000156   \n",
            "\n",
            "       liveness  valence    tempo  time_signature  \n",
            "0        0.3580    0.715   87.917               4  \n",
            "1        0.1010    0.267   77.489               4  \n",
            "2        0.1170    0.120   76.332               4  \n",
            "3        0.1320    0.143  181.740               3  \n",
            "4        0.0829    0.167  119.949               4  \n",
            "...         ...      ...      ...             ...  \n",
            "10995    0.4430    0.502  125.445               4  \n",
            "10996    0.0564    0.596  130.002               4  \n",
            "10997    0.0574    0.407   87.502               4  \n",
            "10998    0.3420    0.473  175.013               4  \n",
            "10999    0.1060    0.754  125.554               4  \n",
            "\n",
            "[11000 rows x 10 columns]\n"
          ]
        }
      ]
    },
    {
      "source": [
        "# llama featureNormalize con los datos cargados\n",
        "X_norm, mu, sigma = featureNormalize(X)\n",
        "\n",
        "# Mostrar algunos puntos de datos normalizados\n",
        "print(\"Mostramos solo 10 datos normalizados\")\n",
        "print('{:>8s}{:>8s}{:>8s}{:>8s}{:>8s}{:>8s}{:>10s}{:>10s}{:>8s}{:>8s}{:>8s}'.format('X1', 'X2', 'X3', 'X4', 'X5', 'X6', 'X7', 'X8', 'X9', 'X10', 'X11')) # Quitamos 'Y'\n",
        "print('-'*107) # Ajustamos la longitud de la línea\n",
        "for i in range(10):  # Mostrar solo los primeros 10 datos normalizados\n",
        "\n",
        "    print('{:8.4f}{:8.4f}{:8.4f}{:8.4f}{:8.4f}{:8.4f}{:10.4f}{:10.4f}{:8.4f}{:8.4f}'.format(\n",
        "\n",
        "        X_norm.iloc[i, 0], X_norm.iloc[i, 1], X_norm.iloc[i, 2], X_norm.iloc[i, 3],\n",
        "        X_norm.iloc[i, 4], X_norm.iloc[i, 5], X_norm.iloc[i, 6], X_norm.iloc[i, 7],\n",
        "        X_norm.iloc[i, 8], X_norm.iloc[i, 9]\n",
        "    )) # Usamos .iloc para indexar por posición en lugar de etiquetas\n",
        "print('Media calculada:', mu)\n",
        "print('Desviación estandar calculada:', sigma)"
      ],
      "cell_type": "code",
      "metadata": {
        "colab": {
          "base_uri": "https://localhost:8080/"
        },
        "id": "aQWbJBaR2PhZ",
        "outputId": "48d91520-c857-4e6e-8e19-937e8c30619f"
      },
      "execution_count": 240,
      "outputs": [
        {
          "output_type": "stream",
          "name": "stdout",
          "text": [
            "Mostramos solo 10 datos normalizados\n",
            "      X1      X2      X3      X4      X5      X6        X7        X8      X9     X10     X11\n",
            "-----------------------------------------------------------------------------------------------------------\n",
            "  0.8455 -0.6529 -1.2472  0.3515  1.0987 -0.8323    0.8499    0.9284 -1.1564  0.2473\n",
            " -0.6349 -1.7599 -1.2472 -1.6320  0.1128  1.7650   -0.5778   -0.7346 -1.5060  0.2473\n",
            " -0.5308 -1.0356 -1.5291 -0.2136 -0.1917 -0.3145   -0.4889   -1.2803 -1.5448  0.2473\n",
            " -1.5255 -2.1591 -1.5291 -1.8741 -0.4785  1.7096   -0.4056   -1.1949  1.9895 -2.1325\n",
            "  0.5101 -0.7204 -0.9653 -0.2035 -0.2375  0.4398   -0.6784   -1.1058 -0.0823  0.2473\n",
            "  0.9149 -0.5778  0.1623 -0.0383  0.5370 -0.0844   -0.0890    0.7465 -0.8177  0.2473\n",
            " -0.7101 -1.8312 -0.9653 -0.0411 -0.4903  1.5698   -0.6317   -1.4417  0.6330 -2.1325\n",
            "  1.0016 -0.7166  1.5717 -0.1374 -0.3986  0.7020   -0.5984    0.9173  0.9575  0.2473\n",
            "  0.5506 -0.8292 -1.5291 -0.0180 -0.4696 -0.0698   -0.3001    0.7577  0.2576  0.2473\n",
            " -0.5077 -0.0112 -1.2472  0.3469 -0.5790  0.3146   -0.7306   -0.9982 -1.4587  0.2473\n",
            "Media calculada: danceability        0.529793\n",
            "energy              0.634973\n",
            "key                 5.424364\n",
            "loudness           -8.604680\n",
            "speechiness         0.068669\n",
            "acousticness        0.317976\n",
            "liveness            0.205011\n",
            "valence             0.464894\n",
            "tempo             122.404367\n",
            "time_signature      3.896091\n",
            "dtype: float64\n",
            "Desviación estandar calculada: danceability       0.172927\n",
            "energy             0.266482\n",
            "key                3.547407\n",
            "loudness           5.288062\n",
            "speechiness        0.067652\n",
            "acousticness       0.343362\n",
            "liveness           0.180003\n",
            "valence            0.269392\n",
            "tempo             29.824299\n",
            "time_signature     0.420198\n",
            "dtype: float64\n"
          ]
        }
      ]
    },
    {
      "cell_type": "code",
      "source": [
        "def plotData(x, y):\n",
        "  # Grafica los puntos x e y en una figura nueva\n",
        "  fig = plt.figure() # abre una nueva figura\n",
        "\n",
        "  plt.plot(x, y, 'ro', ms=10, mec='k')\n",
        "  plt.xlabel('Información por minutos')\n",
        "  plt.ylabel('temperaturasMax')\n"
      ],
      "metadata": {
        "id": "3-0CKgY_ylsH"
      },
      "execution_count": 241,
      "outputs": []
    },
    {
      "cell_type": "code",
      "source": [
        "plotData(X, y)"
      ],
      "metadata": {
        "colab": {
          "base_uri": "https://localhost:8080/",
          "height": 450
        },
        "id": "FlZe5tetytsZ",
        "outputId": "9751f7ac-c4a6-46cd-d031-1493bb1d9daa"
      },
      "execution_count": 242,
      "outputs": [
        {
          "output_type": "display_data",
          "data": {
            "text/plain": [
              "<Figure size 640x480 with 1 Axes>"
            ],
            "image/png": "[encoded data removed]"
          },
          "metadata": {}
        }
      ]
    },
    {
      "cell_type": "code",
      "source": [
        "def featureNormalize(X):\n",
        "  X_norm = X.copy()\n",
        "  mu = np.zeros(X.shape[1]) # promedio, media\n",
        "  sigma = np.zeros(X.shape[1])  # desviasión estandar\n",
        "\n",
        "  mu = np.mean(X, axis=0)\n",
        "  sigma = np.std(X, axis=0)\n",
        "  X_norm = (X - mu) / sigma\n",
        "\n",
        "  return X_norm, mu, sigma"
      ],
      "metadata": {
        "id": "ihcIsFGVzGzG"
      },
      "execution_count": 243,
      "outputs": []
    },
    {
      "cell_type": "code",
      "source": [
        "# Llamar a la funcion de normalización con los datos cargados\n",
        "X_norm, mu, sigma = featureNormalize(X)"
      ],
      "metadata": {
        "id": "0DMeiGPkzM5k"
      },
      "execution_count": 244,
      "outputs": []
    },
    {
      "cell_type": "code",
      "source": [
        "# Columna de unos para X0\n",
        "\n",
        "X = np.concatenate([np.ones((m, 1)), X_norm], axis=1)\n",
        "\n",
        "print(X)"
      ],
      "metadata": {
        "colab": {
          "base_uri": "https://localhost:8080/"
        },
        "id": "2jDciDpZzaez",
        "outputId": "41efb307-9a9f-4c77-a805-ffe0157e991d"
      },
      "execution_count": 245,
      "outputs": [
        {
          "output_type": "stream",
          "name": "stdout",
          "text": [
            "[[ 1.          0.84548148 -0.65285138 ...  0.92841141 -1.15635129\n",
            "   0.2472859 ]\n",
            " [ 1.         -0.63490778 -1.75986854 ... -0.73459351 -1.50599907\n",
            "   0.2472859 ]\n",
            " [ 1.         -0.53081791 -1.03561663 ... -1.280267   -1.54479294\n",
            "   0.2472859 ]\n",
            " ...\n",
            " [ 1.          1.18088218  0.97952986 ... -0.21490448 -1.17026612\n",
            "   0.2472859 ]\n",
            " [ 1.          0.39442538  1.14464429 ...  0.03009178  1.76395205\n",
            "   0.2472859 ]\n",
            " [ 1.          0.68356391  0.39037158 ...  1.07318192  0.10560628\n",
            "   0.2472859 ]]\n"
          ]
        }
      ]
    },
    {
      "cell_type": "markdown",
      "source": [
        "# ***2.2 Descenso por el gradiente***"
      ],
      "metadata": {
        "id": "feum5mgw0hhZ"
      }
    },
    {
      "cell_type": "code",
      "source": [
        "# Declaramos la funcion de costo\n",
        "\n",
        "def computeCostMulti(X, y, theta):\n",
        "  # Inicializamos el número de ejemplos de entrenamiento\n",
        "  m = y.shape[0]\n",
        "\n",
        "  J = 0\n",
        "  h = np.dot(X, theta)\n",
        "\n",
        "  J = (1/(2 * m)) * np.sum(np.square(np.dot(X, theta) - y))\n",
        "\n",
        "  return J"
      ],
      "metadata": {
        "id": "HzuJ92LU0wLy"
      },
      "execution_count": 246,
      "outputs": []
    },
    {
      "cell_type": "code",
      "source": [
        "# Declaramos la función el descenso por el gradiente\n",
        "def gradientDescentMulti(X, y, theta, alpha, num_iter):\n",
        "\n",
        "  m = y.shape[0]\n",
        "  theta = theta.copy()\n",
        "  J_history = [] # historial de costo\n",
        "\n",
        "  for i in range(num_iter):\n",
        "    theta = theta - (alpha / m) * (np.dot(X, theta) - y).dot(X)\n",
        "    J_history.append(computeCostMulti(X, y, theta))\n",
        "\n",
        "  return theta, J_history\n"
      ],
      "metadata": {
        "id": "MbG-H0Ld0zSl"
      },
      "execution_count": 247,
      "outputs": []
    },
    {
      "cell_type": "markdown",
      "source": [
        "# ***2.3 Seleccionando coheficientes de aprendizaje***"
      ],
      "metadata": {
        "id": "8gB15gii1BPK"
      }
    },
    {
      "source": [
        "def gradientDescentMulti(X, y, theta, alpha, num_iter):\n",
        "\n",
        "  m = y.shape[0]\n",
        "  theta = theta.copy()\n",
        "  J_history = [] # historial de costo\n",
        "\n",
        "  for i in range(num_iter):\n",
        "    # Transpose X to align dimensions for dot product\n",
        "    theta = theta - (alpha / m) * np.dot(X.T, (np.dot(X, theta) - y))\n",
        "    J_history.append(computeCostMulti(X, y, theta))\n",
        "\n",
        "  return theta, J_history"
      ],
      "cell_type": "code",
      "metadata": {
        "id": "tUjv2vmMpuYR"
      },
      "execution_count": 248,
      "outputs": []
    },
    {
      "source": [
        "# Datos para predecir (solo 11 columnas) AUMENTAR\n",
        "data_new = np.array([\n",
        "    [1, 0, 33, 20, 13, 46, 23, 1022.9, 1019.8, 0, 0],\n",
        "    [1, 0, 28, 13, 11, 38, 19, 1020.4, 1015.2, 0, 0],\n",
        "    [1, 0, 44, 9, 30, 47, 15, 1013.9, 1009.3, 0, 0],\n",
        "    [1, 0, 54, 9, 7, 62, 93, 1004, 1002.3, 1, 8],\n",
        "    [1, 29.4, 56, 20, 28, 90, 60, 1000.8, 1001.3, 8, 6]\n",
        "])\n",
        "\n",
        "# La cantidad de funciones en data_new coincida con la longitud de theta\n",
        "# Ajuste el número de ceros añadidos según sea necesario\n",
        "data_new_with_all_features = np.hstack((data_new, np.zeros((data_new.shape[0], 3))))\n",
        "\n",
        "print(\"Shape of theta:\", theta.shape)\n",
        "print(\"Shape of data_new_with_all_features:\", data_new_with_all_features.shape)\n",
        "\n"
      ],
      "cell_type": "code",
      "metadata": {
        "colab": {
          "base_uri": "https://localhost:8080/"
        },
        "id": "Q2xrCMghxurI",
        "outputId": "679b1269-d0a8-4b5b-d667-420368824c0f"
      },
      "execution_count": 249,
      "outputs": [
        {
          "output_type": "stream",
          "name": "stdout",
          "text": [
            "Shape of theta: (14, 1)\n",
            "Shape of data_new_with_all_features: (5, 14)\n"
          ]
        }
      ]
    },
    {
      "source": [
        "#Calcula el número de coeficientes faltantes\n",
        "num_missing_coeffs = theta.shape[0] - data_new.shape[1]  # Changed the order of subtraction\n",
        "\n",
        "#Agrega los coeficientes faltantes a data_new (en lugar de theta) si es necesario\n",
        "if num_missing_coeffs > 0:\n",
        "    data_new = np.pad(data_new, ((0, 0), (0, num_missing_coeffs)), 'constant')\n",
        "\n",
        "#Ahora realiza el producto punto\n",
        "y_pred = np.dot(data_new, theta)"
      ],
      "cell_type": "code",
      "metadata": {
        "id": "aThtgdx01Xcr"
      },
      "execution_count": 250,
      "outputs": []
    },
    {
      "cell_type": "code",
      "source": [
        "print(\"Shape of theta:\", theta.shape)\n",
        "print(\"Shape of data_new_with_all_features:\", data_new_with_all_features.shape)"
      ],
      "metadata": {
        "colab": {
          "base_uri": "https://localhost:8080/"
        },
        "id": "ZfchOzdMyEAx",
        "outputId": "58d68e44-3807-4183-a1ad-375679650acd"
      },
      "execution_count": 234,
      "outputs": [
        {
          "output_type": "stream",
          "name": "stdout",
          "text": [
            "Shape of theta: (11,)\n",
            "Shape of data_new_with_all_features: (5, 14)\n"
          ]
        }
      ]
    },
    {
      "source": [
        "# Calcula el número de coeficientes faltantes\n",
        "num_missing_coeffs = 14 - theta.shape[0]\n",
        "\n",
        "# Agrega los coeficientes faltantes a theta\n",
        "theta = np.pad(theta, (0, num_missing_coeffs), 'constant')\n",
        "\n",
        "# Ahora cambia la forma de theta\n",
        "theta = theta.reshape((14, 1))\n",
        "#print(theta)\n",
        "\n",
        "print(\"Shape of theta:\", theta.shape)\n",
        "print(\"Shape of data_new_with_all_features:\", data_new_with_all_features.shape)"
      ],
      "cell_type": "code",
      "metadata": {
        "colab": {
          "base_uri": "https://localhost:8080/"
        },
        "id": "ed0NKVV71v2I",
        "outputId": "47dcba39-d1fb-41a4-f3fd-bb76bad3b404"
      },
      "execution_count": 238,
      "outputs": [
        {
          "output_type": "stream",
          "name": "stdout",
          "text": [
            "Shape of theta: (14, 1)\n",
            "Shape of data_new_with_all_features: (5, 14)\n"
          ]
        }
      ]
    },
    {
      "cell_type": "code",
      "source": [
        "# Datos para predecir (solo 11 columnas) AUMENTAR\n",
        "data_new = np.array([\n",
        "    [1, 0, 33, 20, 13, 46, 23, 1022.9, 1019.8, 0, 0],\n",
        "    [1, 0, 28, 13, 11, 38, 19, 1020.4, 1015.2, 0, 0],\n",
        "    [1, 0, 44, 9, 30, 47, 15, 1013.9, 1009.3, 0, 0],\n",
        "    [1, 0, 54, 9, 7, 62, 93, 1004, 1002.3, 1, 8],\n",
        "    [1, 29.4, 56, 20, 28, 90, 60, 1000.8, 1001.3, 8, 6]\n",
        "])\n",
        "\n",
        "data_new_with_all_features = np.hstack((data_new, np.zeros((data_new.shape[0], 3))))\n",
        "\n",
        "print(\"Shape of theta:\", theta.shape)\n",
        "print(\"Shape of data_new_with_all_features:\", data_new_with_all_features.shape)\n",
        "\n",
        "# Calcular las predicciones\n",
        "y_pred = np.dot(data_new_with_all_features, theta)"
      ],
      "metadata": {
        "colab": {
          "base_uri": "https://localhost:8080/"
        },
        "id": "4N-8nqKRqJoC",
        "outputId": "1ebb3c2d-862a-4886-c26e-8c211b80a6c0"
      },
      "execution_count": 239,
      "outputs": [
        {
          "output_type": "stream",
          "name": "stdout",
          "text": [
            "Shape of theta: (14, 1)\n",
            "Shape of data_new_with_all_features: (5, 14)\n"
          ]
        }
      ]
    },
    {
      "cell_type": "code",
      "source": [
        "# Visualizar las predicciones\n",
        "print('Predicciones de Bailabilidad máxima para las nuevas características:')\n",
        "for i, pred in enumerate(y_pred, start=1):\n",
        "    print(f'Predicción {i}: {pred.round(2)}')"
      ],
      "metadata": {
        "colab": {
          "base_uri": "https://localhost:8080/"
        },
        "id": "23IirsluqmIS",
        "outputId": "0ffbb87e-0dad-4d45-d9d3-2e2f2caf5be7"
      },
      "execution_count": 197,
      "outputs": [
        {
          "output_type": "stream",
          "name": "stdout",
          "text": [
            "Predicciones de Bailabilidad máxima para las nuevas características:\n",
            "Predicción 1: -2621.58\n",
            "Predicción 2: -2583.87\n",
            "Predicción 3: -2612.44\n",
            "Predicción 4: -2717.37\n",
            "Predicción 5: -2666.51\n"
          ]
        }
      ]
    },
    {
      "cell_type": "markdown",
      "source": [
        "# ***Ecuacion de la Normal***"
      ],
      "metadata": {
        "id": "aJ0ZNNGVM7Be"
      }
    },
    {
      "cell_type": "code",
      "source": [
        "# Importación de librerías\n",
        "import numpy as np\n",
        "import pandas as pd\n",
        "import matplotlib.pyplot as plt\n",
        "\n",
        "\n",
        "data = pd.read_csv('/content/gdrive/MyDrive/Colab Notebooks/datasets/datasetLab2.1.csv', delimiter=\",\")\n",
        "#print(data)"
      ],
      "metadata": {
        "id": "GrIxU7LHq6Qr"
      },
      "execution_count": 153,
      "outputs": []
    },
    {
      "cell_type": "code",
      "source": [
        "X = data.iloc[:11000, 2:]\n",
        "y = data.iloc[:11000, 0]\n",
        "\n",
        "# Conversión de la variable objetivo a tipo float\n",
        "y = y.astype(float)\n",
        "\n",
        "# Adición de una columna de unos a la matriz de características\n",
        "m = y.size\n",
        "X = np.concatenate([np.ones((m, 1)), X], axis=1)"
      ],
      "metadata": {
        "id": "r6lrTSUerj7z"
      },
      "execution_count": 149,
      "outputs": []
    },
    {
      "cell_type": "code",
      "source": [
        "# Definición de la función para calcular los parámetros con la ecuación de la normal\n",
        "def normalEqn(X, y):\n",
        "  theta = np.zeros(X.shape[1])\n",
        "  theta = np.dot(np.dot(np.linalg.inv(np.dot(X.T, X)), X.T), y)\n",
        "  return theta\n",
        "\n",
        "# Cálculo de los parámetros con la ecuación de la normal\n",
        "theta = normalEqn(X, y)\n",
        "\n",
        "# Visualización de los resultados\n",
        "print('Theta calculado a partir de la ecuación de la normal:')\n",
        "print(theta)\n",
        "\n"
      ],
      "metadata": {
        "colab": {
          "base_uri": "https://localhost:8080/"
        },
        "id": "aEo6Q6eAlOON",
        "outputId": "ce2ff70e-8dd1-4199-c92b-4f6997452d1e"
      },
      "execution_count": 150,
      "outputs": [
        {
          "output_type": "stream",
          "name": "stdout",
          "text": [
            "Theta calculado a partir de la ecuación de la normal:\n",
            "[ 4.88484614e+01  1.65695752e+00 -2.01766018e+01 -1.19809324e-01\n",
            "  3.70728117e-01  1.99382592e+00 -1.55548668e+00  1.61551447e+00\n",
            " -9.94900361e+00 -2.50747681e-03  1.23557650e+00]\n"
          ]
        }
      ]
    },
    {
      "cell_type": "code",
      "source": [
        "# Datos para predecir\n",
        "data_new = np.array([\n",
        "    [1, 0, 33, 20, 13, 46, 23, 1022.9, 1019.8, 0, 0],\n",
        "    [1, 0, 28, 13, 11, 38, 19, 1020.4, 1015.2, 0, 0],\n",
        "    [1, 0, 44, 9, 30, 47, 15, 1013.9, 1009.3, 0, 0],\n",
        "    [1, 0, 54, 9, 7, 62, 93, 1004, 1002.3, 1, 8],\n",
        "    [1, 29.4, 56, 20, 28, 90, 60, 1000.8, 1001.3, 8, 6]\n",
        "])\n",
        "\n",
        "# Calcular las predicciones\n",
        "y_pred = np.dot(data_new, theta)\n",
        "\n",
        "# Visualizar las predicciones\n",
        "print('Predicciones de bailabilidad máxima para las nuevas características:')\n",
        "for i, pred in enumerate(y_pred, start=1):\n",
        "    print(f'Predicción {i}: {pred.round(2)}')\n"
      ],
      "metadata": {
        "colab": {
          "base_uri": "https://localhost:8080/"
        },
        "id": "Q14JxVfYpIK8",
        "outputId": "4f58b353-36e2-49f5-f1da-e285269842c0"
      },
      "execution_count": 151,
      "outputs": [
        {
          "output_type": "stream",
          "name": "stdout",
          "text": [
            "Predicciones de bailabilidad máxima para las nuevas características:\n",
            "Predicción 1: -9052.1\n",
            "Predicción 2: -8919.12\n",
            "Predicción 3: -9162.06\n",
            "Predicción 4: -9400.24\n",
            "Predicción 5: -9275.96\n"
          ]
        }
      ]
    },
    {
      "cell_type": "code",
      "source": [
        "plotData(X[:, 1], y)\n",
        "pyplot.plot(X[:, 1], np.dot(X, theta), '-')"
      ],
      "metadata": {
        "colab": {
          "base_uri": "https://localhost:8080/",
          "height": 467
        },
        "id": "5FvqPk_k8AF9",
        "outputId": "c8739bb1-29af-4213-ef24-87523a07038c"
      },
      "execution_count": 154,
      "outputs": [
        {
          "output_type": "execute_result",
          "data": {
            "text/plain": [
              "[<matplotlib.lines.Line2D at 0x7823dc8e5330>]"
            ]
          },
          "metadata": {},
          "execution_count": 154
        },
        {
          "output_type": "display_data",
          "data": {
            "text/plain": [
              "<Figure size 640x480 with 1 Axes>"
            ],
            "image/png": "[encoded data removed]"
          },
          "metadata": {}
        }
      ]
    }
  ]
}